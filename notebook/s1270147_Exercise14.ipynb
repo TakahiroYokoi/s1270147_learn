{
 "cells": [
  {
   "cell_type": "markdown",
   "id": "7dd1895e",
   "metadata": {},
   "source": [
    "# Exercise 14\n",
    "Takahiro Yokoi"
   ]
  },
  {
   "cell_type": "code",
   "execution_count": null,
   "id": "4cfd7fe8",
   "metadata": {},
   "outputs": [],
   "source": []
  }
 ],
 "metadata": {
  "language_info": {
   "name": "python"
  }
 },
 "nbformat": 4,
 "nbformat_minor": 5
}
